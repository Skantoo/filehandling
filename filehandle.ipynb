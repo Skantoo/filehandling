{
 "cells": [
  {
   "cell_type": "code",
   "execution_count": 1,
   "id": "659380de-9495-4b37-a047-8d8fb057a086",
   "metadata": {},
   "outputs": [],
   "source": [
    "import os"
   ]
  },
  {
   "cell_type": "code",
   "execution_count": 3,
   "id": "029a6712-9414-43fd-ade8-945ece5aaec7",
   "metadata": {},
   "outputs": [
    {
     "data": {
      "text/plain": [
       "'C:\\\\Users\\\\santo\\\\code playground'"
      ]
     },
     "execution_count": 3,
     "metadata": {},
     "output_type": "execute_result"
    }
   ],
   "source": [
    "%pwd"
   ]
  },
  {
   "cell_type": "code",
   "execution_count": 5,
   "id": "9c2f45e2-580e-4f3c-9b11-92cf074c6fd0",
   "metadata": {},
   "outputs": [],
   "source": [
    "new_dir=\"new_dir\""
   ]
  },
  {
   "cell_type": "code",
   "execution_count": 7,
   "id": "ea730797-a662-4132-9178-3fa2bed7cdba",
   "metadata": {},
   "outputs": [],
   "source": [
    "os.mkdir(new_dir)"
   ]
  },
  {
   "cell_type": "code",
   "execution_count": 9,
   "id": "8f7c6ed6-1825-4961-a744-f0ddf8081242",
   "metadata": {},
   "outputs": [
    {
     "data": {
      "text/plain": [
       "['.ipynb_checkpoints',\n",
       " 'customer-churn-prediction',\n",
       " 'customer-churn-prediction.rar',\n",
       " 'Geekster',\n",
       " 'git',\n",
       " 'gith',\n",
       " 'Learn_with_geekster',\n",
       " 'new_dir',\n",
       " 'Student Desk',\n",
       " 'Student Desk 250424 (4)',\n",
       " 'Student Desk 250424 (5)',\n",
       " 'Student Desk 250424 (5).zip',\n",
       " 'Student Desk.zip',\n",
       " 'trashUniconnectintegration',\n",
       " 'Uniconnectintegration.zip',\n",
       " 'Untitled.ipynb',\n",
       " 'Untitled1.ipynb',\n",
       " 'WT1']"
      ]
     },
     "execution_count": 9,
     "metadata": {},
     "output_type": "execute_result"
    }
   ],
   "source": [
    "os.listdir(\".\")"
   ]
  },
  {
   "cell_type": "code",
   "execution_count": 11,
   "id": "624edd65-17f0-4705-80c1-475c46b20708",
   "metadata": {},
   "outputs": [],
   "source": [
    "with open(\"new_dir/first.txt\",\"w\") as f:\n",
    "    f.write(\"This is first file to test file handling\")"
   ]
  },
  {
   "cell_type": "code",
   "execution_count": 15,
   "id": "8a30e0c8-2727-4fa8-81c2-de7de7f12717",
   "metadata": {},
   "outputs": [
    {
     "name": "stdout",
     "output_type": "stream",
     "text": [
      "This is first file to test file handling\n"
     ]
    }
   ],
   "source": [
    "with open(\"new_dir/first.txt\",\"r\") as f:\n",
    "    print(f.read())"
   ]
  },
  {
   "cell_type": "code",
   "execution_count": 17,
   "id": "4074e6cf-ba88-4cd6-9f0c-7871ac87d74e",
   "metadata": {},
   "outputs": [],
   "source": [
    "os.rename(\"new_dir/first.txt\",\"new_dir/second.txt\")"
   ]
  },
  {
   "cell_type": "code",
   "execution_count": 19,
   "id": "9f1934aa-e82c-4e48-8c47-daeeda5b76b3",
   "metadata": {},
   "outputs": [
    {
     "data": {
      "text/plain": [
       "['second.txt']"
      ]
     },
     "execution_count": 19,
     "metadata": {},
     "output_type": "execute_result"
    }
   ],
   "source": [
    "os.listdir(new_dir)"
   ]
  },
  {
   "cell_type": "code",
   "execution_count": 21,
   "id": "ec0dce33-ba2f-4580-806f-37c26d9a7f79",
   "metadata": {},
   "outputs": [],
   "source": [
    "os.remove(\"new_dir/second.txt\")"
   ]
  },
  {
   "cell_type": "code",
   "execution_count": 25,
   "id": "8216dd00-2167-4546-97d8-34df495abcd4",
   "metadata": {},
   "outputs": [],
   "source": [
    "import shutil"
   ]
  },
  {
   "cell_type": "code",
   "execution_count": 27,
   "id": "5b953ff3-115d-4a39-bd2e-f1aa1873bad7",
   "metadata": {},
   "outputs": [],
   "source": [
    "shutil.rmtree(new_dir)"
   ]
  },
  {
   "cell_type": "code",
   "execution_count": 29,
   "id": "324df914-62c6-40dd-b4ce-99f91c2f85c2",
   "metadata": {},
   "outputs": [
    {
     "data": {
      "text/plain": [
       "['.ipynb_checkpoints',\n",
       " 'customer-churn-prediction',\n",
       " 'customer-churn-prediction.rar',\n",
       " 'Geekster',\n",
       " 'git',\n",
       " 'gith',\n",
       " 'Learn_with_geekster',\n",
       " 'Student Desk',\n",
       " 'Student Desk 250424 (4)',\n",
       " 'Student Desk 250424 (5)',\n",
       " 'Student Desk 250424 (5).zip',\n",
       " 'Student Desk.zip',\n",
       " 'trashUniconnectintegration',\n",
       " 'Uniconnectintegration.zip',\n",
       " 'Untitled.ipynb',\n",
       " 'Untitled1.ipynb',\n",
       " 'WT1']"
      ]
     },
     "execution_count": 29,
     "metadata": {},
     "output_type": "execute_result"
    }
   ],
   "source": [
    "os.listdir('.')"
   ]
  },
  {
   "cell_type": "code",
   "execution_count": null,
   "id": "4e74f127-d90d-438c-9c5f-8c3e95282779",
   "metadata": {},
   "outputs": [],
   "source": []
  }
 ],
 "metadata": {
  "kernelspec": {
   "display_name": "Python 3 (ipykernel)",
   "language": "python",
   "name": "python3"
  },
  "language_info": {
   "codemirror_mode": {
    "name": "ipython",
    "version": 3
   },
   "file_extension": ".py",
   "mimetype": "text/x-python",
   "name": "python",
   "nbconvert_exporter": "python",
   "pygments_lexer": "ipython3",
   "version": "3.12.4"
  }
 },
 "nbformat": 4,
 "nbformat_minor": 5
}
